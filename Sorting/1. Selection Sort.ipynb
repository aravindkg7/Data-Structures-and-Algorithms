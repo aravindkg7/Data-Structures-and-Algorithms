{
 "cells": [
  {
   "cell_type": "markdown",
   "metadata": {},
   "source": [
    "This program demonstrates Selection Sort"
   ]
  },
  {
   "cell_type": "code",
   "execution_count": 1,
   "metadata": {},
   "outputs": [],
   "source": [
    "def selection_sort(A):\n",
    "    '''\n",
    "    input\n",
    "    -----\n",
    "    A: Array of unsorted numbers\n",
    "    \n",
    "    output\n",
    "    ------\n",
    "    A: Array of sorted numbers\n",
    "    '''\n",
    "\n",
    "    n = len(A)\n",
    "\n",
    "    for i in range(n-1):\n",
    "        pos = i\n",
    "        for j in range(i+1, n):\n",
    "            if A[pos] > A[j]:\n",
    "                pos = j\n",
    "        temp = A[i]\n",
    "        A[i] = A[pos]\n",
    "        A[pos] = temp\n",
    "\n",
    "    return(A)"
   ]
  },
  {
   "cell_type": "code",
   "execution_count": 2,
   "metadata": {},
   "outputs": [],
   "source": [
    "A = [23, 12, 56, 34, 96, 46]"
   ]
  },
  {
   "cell_type": "code",
   "execution_count": 3,
   "metadata": {},
   "outputs": [
    {
     "name": "stdout",
     "output_type": "stream",
     "text": [
      "Unsorted Array: [23, 12, 56, 34, 96, 46]\n",
      "Sorted Array: [12, 23, 34, 46, 56, 96]\n"
     ]
    }
   ],
   "source": [
    "print(f'Unsorted Array: {A}')\n",
    "print(f'Sorted Array: {insertion_sort(A)}')"
   ]
  }
 ],
 "metadata": {
  "kernelspec": {
   "display_name": "base",
   "language": "python",
   "name": "python3"
  },
  "language_info": {
   "codemirror_mode": {
    "name": "ipython",
    "version": 3
   },
   "file_extension": ".py",
   "mimetype": "text/x-python",
   "name": "python",
   "nbconvert_exporter": "python",
   "pygments_lexer": "ipython3",
   "version": "3.10.9"
  }
 },
 "nbformat": 4,
 "nbformat_minor": 2
}
