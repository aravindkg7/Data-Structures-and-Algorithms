{
 "cells": [
  {
   "cell_type": "markdown",
   "metadata": {},
   "source": [
    "This program demonstrates Binary Search using iteration and recursion"
   ]
  },
  {
   "cell_type": "markdown",
   "metadata": {},
   "source": [
    "###### In Binary Search, the input array needs to be sorter order"
   ]
  },
  {
   "cell_type": "markdown",
   "metadata": {},
   "source": [
    "Iterative way"
   ]
  },
  {
   "cell_type": "code",
   "execution_count": 1,
   "metadata": {},
   "outputs": [],
   "source": [
    "def bin_search_iter(A, ele):\n",
    "    '''\n",
    "    input\n",
    "    -----\n",
    "    A: Sorted array of numbers\n",
    "    ele: The element to be searched\n",
    "    \n",
    "    output\n",
    "    ------\n",
    "    mid: index if the key is found\n",
    "    -1: if the key is not found\n",
    "    '''\n",
    "\n",
    "    low = 0\n",
    "    high = len(A)-1\n",
    "\n",
    "    while low <= high:\n",
    "        mid = (low + high)//2\n",
    "        if ele == A[mid]:\n",
    "            return(mid)\n",
    "        elif ele < A[mid]:\n",
    "            high = mid - 1\n",
    "        else:\n",
    "            low = mid + 1\n",
    "    return(-1)"
   ]
  },
  {
   "cell_type": "code",
   "execution_count": 2,
   "metadata": {},
   "outputs": [],
   "source": [
    "#Example 1\n",
    "A = [2, 13, 25, 32, 44, 67]\n",
    "\n",
    "ele = 32"
   ]
  },
  {
   "cell_type": "code",
   "execution_count": 3,
   "metadata": {},
   "outputs": [
    {
     "name": "stdout",
     "output_type": "stream",
     "text": [
      "Element is found at index 3\n"
     ]
    }
   ],
   "source": [
    "found = bin_search_iter(A, ele)\n",
    "if found != -1:\n",
    "    print(f'Element is found at index {found}')\n",
    "else:\n",
    "    print('Element not found')"
   ]
  },
  {
   "cell_type": "code",
   "execution_count": 4,
   "metadata": {},
   "outputs": [],
   "source": [
    "#Example 1\n",
    "A = [2, 13, 25, 32, 44, 67]\n",
    "\n",
    "ele = 38"
   ]
  },
  {
   "cell_type": "code",
   "execution_count": 5,
   "metadata": {},
   "outputs": [
    {
     "name": "stdout",
     "output_type": "stream",
     "text": [
      "Element not found\n"
     ]
    }
   ],
   "source": [
    "found = bin_search_iter(A, ele)\n",
    "if found != -1:\n",
    "    print(f'Element is found at index {found}')\n",
    "else:\n",
    "    print('Element not found')"
   ]
  }
 ],
 "metadata": {
  "kernelspec": {
   "display_name": "base",
   "language": "python",
   "name": "python3"
  },
  "language_info": {
   "codemirror_mode": {
    "name": "ipython",
    "version": 3
   },
   "file_extension": ".py",
   "mimetype": "text/x-python",
   "name": "python",
   "nbconvert_exporter": "python",
   "pygments_lexer": "ipython3",
   "version": "3.10.9"
  }
 },
 "nbformat": 4,
 "nbformat_minor": 2
}
