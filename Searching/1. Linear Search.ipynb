{
 "cells": [
  {
   "cell_type": "markdown",
   "metadata": {},
   "source": [
    "This program demonstrates Linear search"
   ]
  },
  {
   "cell_type": "code",
   "execution_count": 1,
   "metadata": {},
   "outputs": [],
   "source": [
    "def lin_search(A, ele):\n",
    "    '''\n",
    "    input\n",
    "    -----\n",
    "    A: Array of numbers\n",
    "    ele: The element to be searched\n",
    "    \n",
    "    output\n",
    "    ------\n",
    "    i: index if the key is found\n",
    "    -1: if the key is not found\n",
    "    '''\n",
    "\n",
    "    for i, data in enumerate(A):\n",
    "        if ele == data:\n",
    "            return(i)\n",
    "    return(-1)"
   ]
  },
  {
   "cell_type": "code",
   "execution_count": 2,
   "metadata": {},
   "outputs": [],
   "source": [
    "#Example 1\n",
    "A = [9, 44, 32, 56, 3, 85]\n",
    "\n",
    "ele = 56"
   ]
  },
  {
   "cell_type": "code",
   "execution_count": 3,
   "metadata": {},
   "outputs": [
    {
     "name": "stdout",
     "output_type": "stream",
     "text": [
      "Element is found at index 3\n"
     ]
    }
   ],
   "source": [
    "found = lin_search(A, ele)\n",
    "if found != -1:\n",
    "    print(f'Element is found at index {found}')\n",
    "else:\n",
    "    print('Element not found')"
   ]
  },
  {
   "cell_type": "code",
   "execution_count": 4,
   "metadata": {},
   "outputs": [],
   "source": [
    "#Example 2\n",
    "A = [9, 44, 32, 56, 3, 85]\n",
    "\n",
    "ele = 53"
   ]
  },
  {
   "cell_type": "code",
   "execution_count": 5,
   "metadata": {},
   "outputs": [
    {
     "name": "stdout",
     "output_type": "stream",
     "text": [
      "Element not found\n"
     ]
    }
   ],
   "source": [
    "found = lin_search(A, ele)\n",
    "if found != -1:\n",
    "    print(f'Element is found at index {found}')\n",
    "else:\n",
    "    print('Element not found')"
   ]
  }
 ],
 "metadata": {
  "kernelspec": {
   "display_name": "base",
   "language": "python",
   "name": "python3"
  },
  "language_info": {
   "codemirror_mode": {
    "name": "ipython",
    "version": 3
   },
   "file_extension": ".py",
   "mimetype": "text/x-python",
   "name": "python",
   "nbconvert_exporter": "python",
   "pygments_lexer": "ipython3",
   "version": "3.10.9"
  }
 },
 "nbformat": 4,
 "nbformat_minor": 2
}
