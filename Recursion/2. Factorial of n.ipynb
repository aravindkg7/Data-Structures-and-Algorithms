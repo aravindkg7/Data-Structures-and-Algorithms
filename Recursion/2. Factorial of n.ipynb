{
 "cells": [
  {
   "cell_type": "markdown",
   "metadata": {},
   "source": [
    "Program to compute factorial of n using iterative as well as recursive functions"
   ]
  },
  {
   "cell_type": "markdown",
   "metadata": {},
   "source": [
    "Iterative way"
   ]
  },
  {
   "cell_type": "code",
   "execution_count": 1,
   "metadata": {},
   "outputs": [],
   "source": [
    "def iter_factorial(n):\n",
    "    fact = 1\n",
    "    for i in range(n):\n",
    "        fact = fact * (i+1)\n",
    "        \n",
    "    return(fact)"
   ]
  },
  {
   "cell_type": "code",
   "execution_count": 2,
   "metadata": {},
   "outputs": [
    {
     "name": "stdout",
     "output_type": "stream",
     "text": [
      "Factorial of 6 is 720\n"
     ]
    }
   ],
   "source": [
    "Input = int(input('Enter an integer value:')) \n",
    "print(f'Factorial of {Input} is {iter_factorial(Input)}')"
   ]
  },
  {
   "cell_type": "markdown",
   "metadata": {},
   "source": [
    "Recursive way"
   ]
  },
  {
   "cell_type": "code",
   "execution_count": 3,
   "metadata": {},
   "outputs": [],
   "source": [
    "def rec_factorial(n):\n",
    "    if n==1:\n",
    "        return(1)\n",
    "    else:\n",
    "        return(n * rec_factorial(n-1))"
   ]
  },
  {
   "cell_type": "code",
   "execution_count": 4,
   "metadata": {},
   "outputs": [
    {
     "name": "stdout",
     "output_type": "stream",
     "text": [
      "Factorial of 7 is 5040\n"
     ]
    }
   ],
   "source": [
    "Input = int(input('Enter an integer value:')) \n",
    "print(f'Factorial of {Input} is {rec_factorial(Input)}')"
   ]
  }
 ],
 "metadata": {
  "kernelspec": {
   "display_name": "base",
   "language": "python",
   "name": "python3"
  },
  "language_info": {
   "codemirror_mode": {
    "name": "ipython",
    "version": 3
   },
   "file_extension": ".py",
   "mimetype": "text/x-python",
   "name": "python",
   "nbconvert_exporter": "python",
   "pygments_lexer": "ipython3",
   "version": "3.10.9"
  }
 },
 "nbformat": 4,
 "nbformat_minor": 2
}
